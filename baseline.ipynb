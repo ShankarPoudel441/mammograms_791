{
  "nbformat": 4,
  "nbformat_minor": 0,
  "metadata": {
    "colab": {
      "name": "baseline",
      "provenance": [],
      "authorship_tag": "ABX9TyPQ4Rg8iQo7/0CximZLxFLW",
      "include_colab_link": true
    },
    "kernelspec": {
      "name": "python3",
      "display_name": "Python 3"
    },
    "language_info": {
      "name": "python"
    }
  },
  "cells": [
    {
      "cell_type": "markdown",
      "metadata": {
        "id": "view-in-github",
        "colab_type": "text"
      },
      "source": [
        "<a href=\"https://colab.research.google.com/github/ShankarPoudel441/mammograms_791/blob/main/baseline.ipynb\" target=\"_parent\"><img src=\"https://colab.research.google.com/assets/colab-badge.svg\" alt=\"Open In Colab\"/></a>"
      ]
    },
    {
      "cell_type": "code",
      "execution_count": null,
      "metadata": {
        "id": "NHSteO4_ACPx"
      },
      "outputs": [],
      "source": [
        "import os\n"
      ]
    },
    {
      "cell_type": "code",
      "source": [
        "!wget http://peipa.essex.ac.uk/pix/mias/all-mias.tar.gz\n",
        "\n",
        "!ls"
      ],
      "metadata": {
        "colab": {
          "base_uri": "https://localhost:8080/"
        },
        "id": "M-4vyGMrAHsw",
        "outputId": "0129670f-c2ce-46c9-defe-617a3d32bbda"
      },
      "execution_count": null,
      "outputs": [
        {
          "output_type": "stream",
          "name": "stdout",
          "text": [
            "--2022-01-21 23:57:57--  http://peipa.essex.ac.uk/pix/mias/all-mias.tar.gz\n",
            "Resolving peipa.essex.ac.uk (peipa.essex.ac.uk)... 155.245.93.3\n",
            "Connecting to peipa.essex.ac.uk (peipa.essex.ac.uk)|155.245.93.3|:80... connected.\n",
            "HTTP request sent, awaiting response... 200 OK\n",
            "Length: 111154265 (106M) [application/gzip]\n",
            "Saving to: ‘all-mias.tar.gz’\n",
            "\n",
            "all-mias.tar.gz     100%[===================>] 106.00M  11.3MB/s    in 9.9s    \n",
            "\n",
            "2022-01-21 23:58:07 (10.7 MB/s) - ‘all-mias.tar.gz’ saved [111154265/111154265]\n",
            "\n",
            "all-mias.tar.gz\n"
          ]
        }
      ]
    },
    {
      "cell_type": "code",
      "source": [
        "!mkdir mammo_data\n",
        "!cd mammo_data && ls"
      ],
      "metadata": {
        "id": "yj4zersEDRZ8"
      },
      "execution_count": null,
      "outputs": []
    },
    {
      "cell_type": "code",
      "source": [
        "# Unzip the downloaded file\n",
        "\n",
        "def extract(fname,target_dir):\n",
        "  import tarfile\n",
        "  import zipfile\n",
        "\n",
        "  if fname.endswith(\"tar.gz\"):\n",
        "    tar = tarfile.open(fname, \"r:gz\")\n",
        "    tar.extractall(target_dir)\n",
        "    tar.close()\n",
        "  elif fname.endswith(\"tar\"):\n",
        "    tar = tarfile.open(fname, \"r:\")\n",
        "    tar.extractall(target_dir)\n",
        "    tar.close()\n",
        "  elif fname.endswith(\"zip\"):\n",
        "    zip_ref = zipfile.ZipFile(fname, \"r\")\n",
        "    zip_ref.extractall(target_dir)\n",
        "    zip_ref.close()\n",
        "\n",
        "extract(\"all-mias.tar.gz\",\"mammo_data/\")"
      ],
      "metadata": {
        "id": "KowL5ElBANyg"
      },
      "execution_count": null,
      "outputs": []
    },
    {
      "cell_type": "code",
      "source": [
        "!cd mammo_data && ls\n"
      ],
      "metadata": {
        "colab": {
          "base_uri": "https://localhost:8080/"
        },
        "id": "ANQRttHsAPkA",
        "outputId": "b9f9e903-29a2-4414-fb12-a09604295d50"
      },
      "execution_count": null,
      "outputs": [
        {
          "output_type": "stream",
          "name": "stdout",
          "text": [
            "Info.txt     mdb054.pgm  mdb109.pgm  mdb164.pgm  mdb219.pgm  mdb274.pgm\n",
            "Licence.txt  mdb055.pgm  mdb110.pgm  mdb165.pgm  mdb220.pgm  mdb275.pgm\n",
            "mdb001.pgm   mdb056.pgm  mdb111.pgm  mdb166.pgm  mdb221.pgm  mdb276.pgm\n",
            "mdb002.pgm   mdb057.pgm  mdb112.pgm  mdb167.pgm  mdb222.pgm  mdb277.pgm\n",
            "mdb003.pgm   mdb058.pgm  mdb113.pgm  mdb168.pgm  mdb223.pgm  mdb278.pgm\n",
            "mdb004.pgm   mdb059.pgm  mdb114.pgm  mdb169.pgm  mdb224.pgm  mdb279.pgm\n",
            "mdb005.pgm   mdb060.pgm  mdb115.pgm  mdb170.pgm  mdb225.pgm  mdb280.pgm\n",
            "mdb006.pgm   mdb061.pgm  mdb116.pgm  mdb171.pgm  mdb226.pgm  mdb281.pgm\n",
            "mdb007.pgm   mdb062.pgm  mdb117.pgm  mdb172.pgm  mdb227.pgm  mdb282.pgm\n",
            "mdb008.pgm   mdb063.pgm  mdb118.pgm  mdb173.pgm  mdb228.pgm  mdb283.pgm\n",
            "mdb009.pgm   mdb064.pgm  mdb119.pgm  mdb174.pgm  mdb229.pgm  mdb284.pgm\n",
            "mdb010.pgm   mdb065.pgm  mdb120.pgm  mdb175.pgm  mdb230.pgm  mdb285.pgm\n",
            "mdb011.pgm   mdb066.pgm  mdb121.pgm  mdb176.pgm  mdb231.pgm  mdb286.pgm\n",
            "mdb012.pgm   mdb067.pgm  mdb122.pgm  mdb177.pgm  mdb232.pgm  mdb287.pgm\n",
            "mdb013.pgm   mdb068.pgm  mdb123.pgm  mdb178.pgm  mdb233.pgm  mdb288.pgm\n",
            "mdb014.pgm   mdb069.pgm  mdb124.pgm  mdb179.pgm  mdb234.pgm  mdb289.pgm\n",
            "mdb015.pgm   mdb070.pgm  mdb125.pgm  mdb180.pgm  mdb235.pgm  mdb290.pgm\n",
            "mdb016.pgm   mdb071.pgm  mdb126.pgm  mdb181.pgm  mdb236.pgm  mdb291.pgm\n",
            "mdb017.pgm   mdb072.pgm  mdb127.pgm  mdb182.pgm  mdb237.pgm  mdb292.pgm\n",
            "mdb018.pgm   mdb073.pgm  mdb128.pgm  mdb183.pgm  mdb238.pgm  mdb293.pgm\n",
            "mdb019.pgm   mdb074.pgm  mdb129.pgm  mdb184.pgm  mdb239.pgm  mdb294.pgm\n",
            "mdb020.pgm   mdb075.pgm  mdb130.pgm  mdb185.pgm  mdb240.pgm  mdb295.pgm\n",
            "mdb021.pgm   mdb076.pgm  mdb131.pgm  mdb186.pgm  mdb241.pgm  mdb296.pgm\n",
            "mdb022.pgm   mdb077.pgm  mdb132.pgm  mdb187.pgm  mdb242.pgm  mdb297.pgm\n",
            "mdb023.pgm   mdb078.pgm  mdb133.pgm  mdb188.pgm  mdb243.pgm  mdb298.pgm\n",
            "mdb024.pgm   mdb079.pgm  mdb134.pgm  mdb189.pgm  mdb244.pgm  mdb299.pgm\n",
            "mdb025.pgm   mdb080.pgm  mdb135.pgm  mdb190.pgm  mdb245.pgm  mdb300.pgm\n",
            "mdb026.pgm   mdb081.pgm  mdb136.pgm  mdb191.pgm  mdb246.pgm  mdb301.pgm\n",
            "mdb027.pgm   mdb082.pgm  mdb137.pgm  mdb192.pgm  mdb247.pgm  mdb302.pgm\n",
            "mdb028.pgm   mdb083.pgm  mdb138.pgm  mdb193.pgm  mdb248.pgm  mdb303.pgm\n",
            "mdb029.pgm   mdb084.pgm  mdb139.pgm  mdb194.pgm  mdb249.pgm  mdb304.pgm\n",
            "mdb030.pgm   mdb085.pgm  mdb140.pgm  mdb195.pgm  mdb250.pgm  mdb305.pgm\n",
            "mdb031.pgm   mdb086.pgm  mdb141.pgm  mdb196.pgm  mdb251.pgm  mdb306.pgm\n",
            "mdb032.pgm   mdb087.pgm  mdb142.pgm  mdb197.pgm  mdb252.pgm  mdb307.pgm\n",
            "mdb033.pgm   mdb088.pgm  mdb143.pgm  mdb198.pgm  mdb253.pgm  mdb308.pgm\n",
            "mdb034.pgm   mdb089.pgm  mdb144.pgm  mdb199.pgm  mdb254.pgm  mdb309.pgm\n",
            "mdb035.pgm   mdb090.pgm  mdb145.pgm  mdb200.pgm  mdb255.pgm  mdb310.pgm\n",
            "mdb036.pgm   mdb091.pgm  mdb146.pgm  mdb201.pgm  mdb256.pgm  mdb311.pgm\n",
            "mdb037.pgm   mdb092.pgm  mdb147.pgm  mdb202.pgm  mdb257.pgm  mdb312.pgm\n",
            "mdb038.pgm   mdb093.pgm  mdb148.pgm  mdb203.pgm  mdb258.pgm  mdb313.pgm\n",
            "mdb039.pgm   mdb094.pgm  mdb149.pgm  mdb204.pgm  mdb259.pgm  mdb314.pgm\n",
            "mdb040.pgm   mdb095.pgm  mdb150.pgm  mdb205.pgm  mdb260.pgm  mdb315.pgm\n",
            "mdb041.pgm   mdb096.pgm  mdb151.pgm  mdb206.pgm  mdb261.pgm  mdb316.pgm\n",
            "mdb042.pgm   mdb097.pgm  mdb152.pgm  mdb207.pgm  mdb262.pgm  mdb317.pgm\n",
            "mdb043.pgm   mdb098.pgm  mdb153.pgm  mdb208.pgm  mdb263.pgm  mdb318.pgm\n",
            "mdb044.pgm   mdb099.pgm  mdb154.pgm  mdb209.pgm  mdb264.pgm  mdb319.pgm\n",
            "mdb045.pgm   mdb100.pgm  mdb155.pgm  mdb210.pgm  mdb265.pgm  mdb320.pgm\n",
            "mdb046.pgm   mdb101.pgm  mdb156.pgm  mdb211.pgm  mdb266.pgm  mdb321.pgm\n",
            "mdb047.pgm   mdb102.pgm  mdb157.pgm  mdb212.pgm  mdb267.pgm  mdb322.pgm\n",
            "mdb048.pgm   mdb103.pgm  mdb158.pgm  mdb213.pgm  mdb268.pgm  README\n",
            "mdb049.pgm   mdb104.pgm  mdb159.pgm  mdb214.pgm  mdb269.pgm\n",
            "mdb050.pgm   mdb105.pgm  mdb160.pgm  mdb215.pgm  mdb270.pgm\n",
            "mdb051.pgm   mdb106.pgm  mdb161.pgm  mdb216.pgm  mdb271.pgm\n",
            "mdb052.pgm   mdb107.pgm  mdb162.pgm  mdb217.pgm  mdb272.pgm\n",
            "mdb053.pgm   mdb108.pgm  mdb163.pgm  mdb218.pgm  mdb273.pgm\n"
          ]
        }
      ]
    },
    {
      "cell_type": "code",
      "source": [
        "for dirpath, dirnames, filenames in os.walk(\".\"):\n",
        "  print(f\"There are {len(dirnames)} directories and {len(filenames)} files in {dirpath}\")"
      ],
      "metadata": {
        "colab": {
          "base_uri": "https://localhost:8080/"
        },
        "id": "ims_26tMCtre",
        "outputId": "3d0fe913-a681-4a65-814c-032ab6506e4d"
      },
      "execution_count": null,
      "outputs": [
        {
          "output_type": "stream",
          "name": "stdout",
          "text": [
            "There are 2 directories and 1 files in .\n",
            "There are 2 directories and 6 files in ./.config\n",
            "There are 1 directories and 0 files in ./.config/logs\n",
            "There are 0 directories and 6 files in ./.config/logs/2022.01.07\n",
            "There are 0 directories and 1 files in ./.config/configurations\n",
            "There are 0 directories and 325 files in ./mammo_data\n"
          ]
        }
      ]
    },
    {
      "cell_type": "code",
      "source": [
        ""
      ],
      "metadata": {
        "id": "5Ae9_R-sEysb"
      },
      "execution_count": null,
      "outputs": []
    }
  ]
}